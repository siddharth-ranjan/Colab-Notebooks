{
  "nbformat": 4,
  "nbformat_minor": 0,
  "metadata": {
    "colab": {
      "provenance": [],
      "authorship_tag": "ABX9TyPI625o8nc2QQdmB1VostFm",
      "include_colab_link": true
    },
    "kernelspec": {
      "name": "python3",
      "display_name": "Python 3"
    },
    "language_info": {
      "name": "python"
    }
  },
  "cells": [
    {
      "cell_type": "markdown",
      "metadata": {
        "id": "view-in-github",
        "colab_type": "text"
      },
      "source": [
        "<a href=\"https://colab.research.google.com/github/siddharth-ranjan/Colab-Notebooks/blob/main/Tokenization_Example_NLP.ipynb\" target=\"_parent\"><img src=\"https://colab.research.google.com/assets/colab-badge.svg\" alt=\"Open In Colab\"/></a>"
      ]
    },
    {
      "cell_type": "code",
      "execution_count": null,
      "metadata": {
        "colab": {
          "base_uri": "https://localhost:8080/"
        },
        "id": "qObJ4_6V2-HJ",
        "outputId": "9b9c5b2e-fe0d-46ae-db21-347cbfbe4c90"
      },
      "outputs": [
        {
          "output_type": "stream",
          "name": "stdout",
          "text": [
            "Requirement already satisfied: nltk in /usr/local/lib/python3.10/dist-packages (3.8.1)\n",
            "Requirement already satisfied: click in /usr/local/lib/python3.10/dist-packages (from nltk) (8.1.7)\n",
            "Requirement already satisfied: joblib in /usr/local/lib/python3.10/dist-packages (from nltk) (1.3.2)\n",
            "Requirement already satisfied: regex>=2021.8.3 in /usr/local/lib/python3.10/dist-packages (from nltk) (2023.12.25)\n",
            "Requirement already satisfied: tqdm in /usr/local/lib/python3.10/dist-packages (from nltk) (4.66.2)\n"
          ]
        }
      ],
      "source": [
        "!pip install nltk"
      ]
    },
    {
      "cell_type": "code",
      "source": [
        "import nltk\n",
        "nltk.download('punkt')"
      ],
      "metadata": {
        "colab": {
          "base_uri": "https://localhost:8080/"
        },
        "id": "QA1NGNEl3qWp",
        "outputId": "1a2118b3-5415-40f8-90de-9f3c3858e4b0"
      },
      "execution_count": 31,
      "outputs": [
        {
          "output_type": "stream",
          "name": "stderr",
          "text": [
            "[nltk_data] Downloading package punkt to /root/nltk_data...\n",
            "[nltk_data]   Package punkt is already up-to-date!\n"
          ]
        },
        {
          "output_type": "execute_result",
          "data": {
            "text/plain": [
              "True"
            ]
          },
          "metadata": {},
          "execution_count": 31
        }
      ]
    },
    {
      "cell_type": "code",
      "source": [
        "corpus = \"\"\" Hello my name is Siddharth Ranjan.\n",
        "            I am learning natutal language processing.\n",
        "            What is your name by the way?\n",
        "         \"\"\""
      ],
      "metadata": {
        "id": "qgYe5XxJ3E8Y"
      },
      "execution_count": 32,
      "outputs": []
    },
    {
      "cell_type": "code",
      "source": [
        "print(corpus)"
      ],
      "metadata": {
        "colab": {
          "base_uri": "https://localhost:8080/"
        },
        "id": "N-XZn9Iy3d-Y",
        "outputId": "4c2d7f02-08e3-4e6f-e661-fe78cea5c42f"
      },
      "execution_count": 33,
      "outputs": [
        {
          "output_type": "stream",
          "name": "stdout",
          "text": [
            " Hello my name is Siddharth Ranjan.\n",
            "            I am learning natutal language processing.\n",
            "            What is your name by the way?\n",
            "         \n"
          ]
        }
      ]
    },
    {
      "cell_type": "code",
      "source": [
        "from nltk.tokenize import sent_tokenize"
      ],
      "metadata": {
        "id": "S4pu42Em3e-k"
      },
      "execution_count": 34,
      "outputs": []
    },
    {
      "cell_type": "code",
      "source": [
        "documents = sent_tokenize(corpus)"
      ],
      "metadata": {
        "id": "f81AtJqP3iVm"
      },
      "execution_count": 35,
      "outputs": []
    },
    {
      "cell_type": "code",
      "source": [
        "documents"
      ],
      "metadata": {
        "colab": {
          "base_uri": "https://localhost:8080/"
        },
        "id": "8lBKL0yB3k-P",
        "outputId": "b3530c51-2f2e-453e-c55b-2ecd87e1c359"
      },
      "execution_count": 36,
      "outputs": [
        {
          "output_type": "execute_result",
          "data": {
            "text/plain": [
              "[' Hello my name is Siddharth Ranjan.',\n",
              " 'I am learning natutal language processing.',\n",
              " 'What is your name by the way?']"
            ]
          },
          "metadata": {},
          "execution_count": 36
        }
      ]
    },
    {
      "cell_type": "code",
      "source": [
        "type(documents)"
      ],
      "metadata": {
        "colab": {
          "base_uri": "https://localhost:8080/"
        },
        "id": "Qm6pQyfq4iAh",
        "outputId": "ad8d02f0-75f7-4ff9-e0fb-0127fe577f04"
      },
      "execution_count": 37,
      "outputs": [
        {
          "output_type": "execute_result",
          "data": {
            "text/plain": [
              "list"
            ]
          },
          "metadata": {},
          "execution_count": 37
        }
      ]
    },
    {
      "cell_type": "code",
      "source": [
        "for sentence in documents:\n",
        "  print(sentence)"
      ],
      "metadata": {
        "colab": {
          "base_uri": "https://localhost:8080/"
        },
        "id": "Gmi4nYcV4kiC",
        "outputId": "3e56ce0b-2d01-4f85-f24d-5aa2bd3c9f7f"
      },
      "execution_count": 38,
      "outputs": [
        {
          "output_type": "stream",
          "name": "stdout",
          "text": [
            " Hello my name is Siddharth Ranjan.\n",
            "I am learning natutal language processing.\n",
            "What is your name by the way?\n"
          ]
        }
      ]
    },
    {
      "cell_type": "code",
      "source": [
        "from nltk.tokenize import word_tokenize"
      ],
      "metadata": {
        "id": "xGO6IVBA4pL9"
      },
      "execution_count": 39,
      "outputs": []
    },
    {
      "cell_type": "code",
      "source": [
        "word_tokenize(corpus)"
      ],
      "metadata": {
        "colab": {
          "base_uri": "https://localhost:8080/"
        },
        "id": "YL0nJ6_d4uo7",
        "outputId": "eac63cd0-19be-42dc-9a64-8ada4775c93e"
      },
      "execution_count": 40,
      "outputs": [
        {
          "output_type": "execute_result",
          "data": {
            "text/plain": [
              "['Hello',\n",
              " 'my',\n",
              " 'name',\n",
              " 'is',\n",
              " 'Siddharth',\n",
              " 'Ranjan',\n",
              " '.',\n",
              " 'I',\n",
              " 'am',\n",
              " 'learning',\n",
              " 'natutal',\n",
              " 'language',\n",
              " 'processing',\n",
              " '.',\n",
              " 'What',\n",
              " 'is',\n",
              " 'your',\n",
              " 'name',\n",
              " 'by',\n",
              " 'the',\n",
              " 'way',\n",
              " '?']"
            ]
          },
          "metadata": {},
          "execution_count": 40
        }
      ]
    },
    {
      "cell_type": "code",
      "source": [
        "for sentence in documents:\n",
        "  print(word_tokenize(sentence))"
      ],
      "metadata": {
        "colab": {
          "base_uri": "https://localhost:8080/"
        },
        "id": "AA1FTEAb4xok",
        "outputId": "36323b93-5418-47a4-93e6-b72053123c78"
      },
      "execution_count": 41,
      "outputs": [
        {
          "output_type": "stream",
          "name": "stdout",
          "text": [
            "['Hello', 'my', 'name', 'is', 'Siddharth', 'Ranjan', '.']\n",
            "['I', 'am', 'learning', 'natutal', 'language', 'processing', '.']\n",
            "['What', 'is', 'your', 'name', 'by', 'the', 'way', '?']\n"
          ]
        }
      ]
    },
    {
      "cell_type": "code",
      "source": [
        "## Separates punctutaions too\n",
        "\n",
        "from nltk.tokenize import WordPunctTokenizer\n",
        "tokenizer = WordPunctTokenizer()"
      ],
      "metadata": {
        "id": "nn4eaoRy5_81"
      },
      "execution_count": 42,
      "outputs": []
    },
    {
      "cell_type": "code",
      "source": [
        "for sentence in documents:\n",
        "  print(tokenizer.tokenize(sentence))"
      ],
      "metadata": {
        "colab": {
          "base_uri": "https://localhost:8080/"
        },
        "id": "mKINccL45yHM",
        "outputId": "e6b77d2c-bfe9-4212-d351-52f84f03264d"
      },
      "execution_count": 43,
      "outputs": [
        {
          "output_type": "stream",
          "name": "stdout",
          "text": [
            "['Hello', 'my', 'name', 'is', 'Siddharth', 'Ranjan', '.']\n",
            "['I', 'am', 'learning', 'natutal', 'language', 'processing', '.']\n",
            "['What', 'is', 'your', 'name', 'by', 'the', 'way', '?']\n"
          ]
        }
      ]
    },
    {
      "cell_type": "code",
      "source": [
        "from nltk.tokenize import TreebankWordTokenizer"
      ],
      "metadata": {
        "id": "JkSKFDTu55GD"
      },
      "execution_count": 44,
      "outputs": []
    },
    {
      "cell_type": "code",
      "source": [
        "tokenize = TreebankWordTokenizer()"
      ],
      "metadata": {
        "id": "OfrbMtnD6hWC"
      },
      "execution_count": 45,
      "outputs": []
    },
    {
      "cell_type": "code",
      "source": [
        "for sentence in documents:\n",
        "  print(tokenizer.tokenize(sentence))"
      ],
      "metadata": {
        "colab": {
          "base_uri": "https://localhost:8080/"
        },
        "id": "QmKA-W-b6lIw",
        "outputId": "d6609c9c-2725-4d85-ffcc-dca99842f458"
      },
      "execution_count": 46,
      "outputs": [
        {
          "output_type": "stream",
          "name": "stdout",
          "text": [
            "['Hello', 'my', 'name', 'is', 'Siddharth', 'Ranjan', '.']\n",
            "['I', 'am', 'learning', 'natutal', 'language', 'processing', '.']\n",
            "['What', 'is', 'your', 'name', 'by', 'the', 'way', '?']\n"
          ]
        }
      ]
    },
    {
      "cell_type": "code",
      "source": [],
      "metadata": {
        "id": "AjdkY1U1BbiU"
      },
      "execution_count": 46,
      "outputs": []
    }
  ]
}